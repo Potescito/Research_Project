{
 "cells": [
  {
   "cell_type": "code",
   "execution_count": null,
   "metadata": {
    "tags": []
   },
   "outputs": [],
   "source": [
    "import sys\n",
    "sys.path.append('../')\n",
    "\n",
    "import torch\n",
    "import torch.nn as nn\n",
    "from torch.utils.data import DataLoader\n",
    "import torchinfo\n",
    "import torchvision\n",
    "import matplotlib.pyplot as plt\n",
    "import numpy as np\n",
    "from transformers import Wav2Vec2Processor, Wav2Vec2Model\n",
    "from src.AVDataset import AVDataset\n",
    "\n",
    "device = torch.device(\"cuda\" if torch.cuda.is_available() else \"cpu\")\n",
    "print(device)\n",
    "\n",
    "if torch.cuda.is_available():\n",
    "    for i in range(torch.cuda.device_count()):\n",
    "       print(torch.cuda.get_device_properties(i).name)"
   ]
  },
  {
   "cell_type": "code",
   "execution_count": null,
   "metadata": {
    "tags": []
   },
   "outputs": [],
   "source": [
    "# ==============\n",
    "# Dataset\n",
    "# ==============\n",
    "audio_root = \"../data/audios_denoised_16khz\"\n",
    "video_root = \"../data/dataset_2drt_video_only\"\n",
    "filter_keyword = \"vcv\" \n",
    "nSubs = [f\"sub{str(i).zfill(3)}\" for i in range(1, 2)]\n",
    "\n",
    "dataset = AVDataset(audio_root, video_root, subs=nSubs, filter_keyword=filter_keyword, video_max_frames=None, audio_sampling_rate=16000)\n",
    "dataloader = DataLoader(dataset, batch_size=1, shuffle=False)\n",
    "\n",
    "print(len(dataset))\n",
    "for i, (waveform, frames, audio_path, video_path) in enumerate(dataloader):\n",
    "        print(\"Audio shape:\", waveform.shape) \n",
    "        print(\"Video frames shape:\", frames.shape)\n",
    "        print(\"Audio file:\", audio_path)\n",
    "        print(\"Video file:\", video_path)\n",
    "        print(\"===========\")\n",
    "        if i > 0:\n",
    "            break"
   ]
  },
  {
   "cell_type": "code",
   "execution_count": 21,
   "metadata": {
    "tags": []
   },
   "outputs": [],
   "source": [
    "# =================================================================\n",
    "# U-Net for the image denoising with the audio (and FiLM conditioning) -> Perez 2018 / Dey 2022\n",
    "# =================================================================\n",
    "\n",
    "# ----------------- FiLM Layer -----------------\n",
    "class FiLM(nn.Module):\n",
    "    def __init__(self, in_channels, embedding_dim):\n",
    "        super(FiLM, self).__init__()\n",
    "        self.fc = nn.Linear(embedding_dim, in_channels * 2) # out_vector: one for scaling and another one for shifting\n",
    "\n",
    "    def forward(self, x, audio_embedding):\n",
    "        gamma, beta = self.fc(audio_embedding).chunk(2, dim=1)  # chunk for splitting the tensor into 2 equal parts ao9ng feat dim\n",
    "        gamma = gamma.view(x.size(0), -1, 1, 1, 1)  # scaling\n",
    "        beta = beta.view(x.size(0), -1, 1, 1, 1) # shifting/bias\n",
    "        return x * (1 + gamma) + beta  # stability when gamma=0 \n",
    "\n",
    "# ----------------- Audio-Informed 3D U-Net -----------------\n",
    "class AudioConditioned3DUNet(nn.Module):\n",
    "    def __init__(self, audio_embedding_dim=768, mode='nearest'):\n",
    "        super(AudioConditioned3DUNet, self).__init__()\n",
    "        self.mode = mode\n",
    "\n",
    "        # Audio Branch\n",
    "        self.audio_encoder = Wav2Vec2Model.from_pretrained(\"facebook/wav2vec2-base\")\n",
    "        for param in self.audio_encoder.parameters():\n",
    "            param.requires_grad = False  # Freeze Wav2Vec2 params since Im using it as a feature extractor\n",
    "\n",
    "        # Encoder_____________________________________________\n",
    "        self.enc1 = self._block(1, 32)\n",
    "        self.enc2 = self._block(32, 64)\n",
    "        self.enc3 = self._block(64, 128)\n",
    "        self.enc4 = self._block(128, 256) # this time i try smaller filters\n",
    "\n",
    "        # Bottleneck__________________________________________\n",
    "        self.bottleneck = self._block(256, 512)\n",
    "\n",
    "        # FiLM layers for conditioning -----------------------\n",
    "        self.film1 = FiLM(32, audio_embedding_dim)\n",
    "        self.film2 = FiLM(64, audio_embedding_dim)\n",
    "        self.film3 = FiLM(128, audio_embedding_dim)\n",
    "        self.film4 = FiLM(256, audio_embedding_dim)\n",
    "\n",
    "        # Decoder_____________________________________________\n",
    "        self.dec1 = self._block(512, 256) # To avoid checkerboard artifacts that transposed convolutions can introduce (bilinear interp.)\n",
    "        self.dec2 = self._block(256, 128) # smoother, lets try :)\n",
    "        self.dec3 = self._block(128, 64)\n",
    "        self.dec4 = self._block(64, 32)\n",
    "\n",
    "        # Final Output Layer__________________________________\n",
    "        self.final_conv = nn.Conv3d(32, 1, kernel_size=1)\n",
    "\n",
    "    def _block(self, in_channels, out_channels):\n",
    "        return nn.Sequential(\n",
    "            nn.Conv3d(in_channels, out_channels, kernel_size=3, padding=1),\n",
    "            # nn.ReLU(inplace=True)\n",
    "            # nn.Conv3d(out_channels, out_channels, kernel_size=3, padding=1), # should I use 2 convs as in the original paper?\n",
    "            nn.BatchNorm3d(out_channels),\n",
    "            nn.ReLU(inplace=True)\n",
    "        )\n",
    "\n",
    "    def forward(self, video, audio):\n",
    "        \"\"\"\n",
    "        Args:\n",
    "            video: Tensor of shape [B, frames, 1, H, W]\n",
    "            audio: Tensor of shape [B, num_audio_samples]\n",
    "        \"\"\"\n",
    "        video = video.permute(0, 2, 1, 3, 4) # [B, 1, frames, H, W] for conv3d\n",
    "\n",
    "        # Audio Processing_____________________________________\n",
    "        with torch.no_grad():\n",
    "            audio_embedding = self.audio_encoder(audio).last_hidden_state  # [B, seq_length, 768]\n",
    "            audio_embedding = torch.mean(audio_embedding, dim=1)  # [B, 768] --> mean pooling over the sequence length to aggregate all the embeedings\n",
    "\n",
    "        # Video Encoder________________________________________\n",
    "        enc1 = self.enc1(video)  # [B, 32, 2800, 84, 84]\n",
    "        enc2 = self.enc2(nn.functional.max_pool3d(enc1, 2))  # [B, 64, 1400, 42, 42]\n",
    "        enc3 = self.enc3(nn.functional.max_pool3d(enc2, 2))  # [B, 128, 700, 21, 21]\n",
    "        enc4 = self.enc4(nn.functional.max_pool3d(enc3, 2))  # [B, 256, 350, 10, 10]\n",
    "\n",
    "        # Bottleneck\n",
    "        bottleneck = self.bottleneck(nn.functional.max_pool3d(enc4, 2))  # [B, 512, 175, 5, 5] also frames reduce\n",
    "\n",
    "        # Decoder with FiLM conditioning_______________________\n",
    "        dec1 = self.dec1(nn.functional.interpolate(bottleneck, size=enc4.shape[2:], mode=self.mode)) # upsample the img before convolution (default 'nearest')\n",
    "        dec1 = self.film4(dec1, audio_embedding) + enc4 # skip connection\n",
    "\n",
    "        dec2 = self.dec2(nn.functional.interpolate(dec1, size=enc3.shape[2:], mode=self.mode))\n",
    "        dec2 = self.film3(dec2, audio_embedding) + enc3 # skip connection\n",
    "\n",
    "        dec3 = self.dec3(nn.functional.interpolate(dec2, size=enc2.shape[2:], mode=self.mode))\n",
    "        dec3 = self.film2(dec3, audio_embedding) + enc2 # skip connection\n",
    "\n",
    "        dec4 = self.dec4(nn.functional.interpolate(dec3, size=enc1.shape[2:], mode=self.mode))\n",
    "        dec4 = self.film1(dec4, audio_embedding) + enc1 # skip connection\n",
    "\n",
    "        # Final Output Layer___________________________________\n",
    "        out = self.final_conv(dec4)\n",
    "        # if out.shape != x.shape:\n",
    "        #     out = nn.functional.interpolate(out, size=(84, 84), mode='bilinear', align_corners=False)\n",
    "        return out"
   ]
  },
  {
   "cell_type": "code",
   "execution_count": 15,
   "metadata": {
    "tags": []
   },
   "outputs": [],
   "source": [
    "unet = AudioConditioned3DUNet(audio_embedding_dim=768, mode='nearest').to(device)\n",
    "\n",
    "# unet(torch.randn(1, 2800, 1, 84, 84).to(device), torch.randn(1, 619695).to(device))\n",
    "\n",
    "# print(torchinfo.summary(unet, input_size=((1, 84, 1, 84, 84), (1, 1000)), device=device))"
   ]
  },
  {
   "cell_type": "code",
   "execution_count": 24,
   "metadata": {
    "tags": []
   },
   "outputs": [],
   "source": [
    "# ===================\n",
    "# Training unsuperv\n",
    "# ===================\n",
    "class PerceptualLoss(nn.Module):\n",
    "    def __init__(self, vgg_model):\n",
    "        super(PerceptualLoss, self).__init__()\n",
    "        self.vgg_layers = vgg_model.features[:16].eval()  # Here I use early layers for texture & structure\n",
    "        for param in self.vgg_layers.parameters():\n",
    "            param.requires_grad = False  # freeze VGG weights\n",
    "\n",
    "    def forward(self, x, y):\n",
    "        return torch.nn.functional.l1_loss(self.vgg_layers(x), self.vgg_layers(y))\n",
    "    \n",
    "def train_model_u(model, dataloader, num_epochs=10, lr=1e-4, device='cuda'):\n",
    "    # model= nn.DataParallel(model)\n",
    "    model.to(device)\n",
    "    \n",
    "    # Optim / later include scheduler?\n",
    "    optimizer = torch.optim.Adam(model.parameters(), lr=lr)\n",
    "    \n",
    "    # Losses\n",
    "    mse_loss = nn.MSELoss()\n",
    "    perceptual_loss = PerceptualLoss(torchvision.models.vgg16(pretrained=True)).to(device)\n",
    "    cosine_loss = nn.CosineEmbeddingLoss()\n",
    "\n",
    "    # Train\n",
    "    model.train()\n",
    "    print(\"Training...\")\n",
    "    for epoch in range(num_epochs):\n",
    "        epoch_loss = 0.0\n",
    "        \n",
    "        for waveform, video_frames, audio_path, video_path in dataloader:\n",
    "            video_frames = video_frames.to(device)  # [B, T, 1, 84, 84]\n",
    "            waveform = waveform.to(device)          # [B, num_samples]\n",
    "            \n",
    "            optimizer.zero_grad()\n",
    "            \n",
    "            # fwd\n",
    "            denoised_output = model(video_frames, waveform)\n",
    "            \n",
    "            # Loss 1: MSE loss (pixel-level reconstruction)\n",
    "            loss_mse = mse_loss(denoised_output, video_frames)\n",
    "            \n",
    "            # Loss 2: Perceptual loss (structural preservation)\n",
    "            denoised_resized = denoised_output.view(-1, 1, 84, 84).repeat(1, 3, 1, 1) # reshape for VGG-> [B*T, 1, 84, 84] -> [B*T, 3, 84, 84]\n",
    "            video_resized = video_frames.view(-1, 1, 84, 84).repeat(1, 3, 1, 1)\n",
    "            loss_perceptual = perceptual_loss(denoised_resized, video_resized) # maybe I should not do this, takes time!\n",
    "            \n",
    "            # Loss 3: Audio Consistency Loss\n",
    "            # video_features = model.enc1(video_frames)  # Here I take the first encoder randomly\n",
    "            # audio_features = model.audio_encoder(waveform).last_hidden_state # takes time\n",
    "            # audio_features = torch.mean(audio_features, dim=1)  # Global audio embedding\n",
    "            \n",
    "            # video_features_flat = video_features.view(video_features.size(0), -1)\n",
    "            # target_labels = torch.ones(video_features_flat.size(0)).to(device) #unsupervided\n",
    "            loss_audio = 0 #cosine_loss(video_features_flat, audio_features, target_labels)\n",
    "\n",
    "            # Total loss but idk how to weight the losses!\n",
    "            total_loss = loss_mse + 0.01 * loss_perceptual + 0.05 * loss_audio\n",
    "            total_loss.backward()\n",
    "            optimizer.step()\n",
    "\n",
    "            epoch_loss += total_loss.item()\n",
    "        \n",
    "        avg_loss = epoch_loss / len(dataloader)\n",
    "        print(f\"Epoch [{epoch+1}/{num_epochs}] - Avg. Loss: {avg_loss:.4f}\")\n",
    "    \n",
    "    return model"
   ]
  },
  {
   "cell_type": "code",
   "execution_count": 25,
   "metadata": {
    "tags": []
   },
   "outputs": [
    {
     "ename": "OutOfMemoryError",
     "evalue": "CUDA out of memory. Tried to allocate 2.00 MiB. GPU 0 has a total capacity of 10.90 GiB of which 3.25 MiB is free. Including non-PyTorch memory, this process has 10.90 GiB memory in use. Of the allocated memory 10.59 GiB is allocated by PyTorch, and 52.45 MiB is reserved by PyTorch but unallocated. If reserved but unallocated memory is large try setting PYTORCH_CUDA_ALLOC_CONF=expandable_segments:True to avoid fragmentation.  See documentation for Memory Management  (https://pytorch.org/docs/stable/notes/cuda.html#environment-variables)",
     "output_type": "error",
     "traceback": [
      "\u001b[31m---------------------------------------------------------------------------\u001b[39m",
      "\u001b[31mOutOfMemoryError\u001b[39m                          Traceback (most recent call last)",
      "\u001b[36mCell\u001b[39m\u001b[36m \u001b[39m\u001b[32mIn[25]\u001b[39m\u001b[32m, line 1\u001b[39m\n\u001b[32m----> \u001b[39m\u001b[32m1\u001b[39m trained_model = \u001b[43mtrain_model_u\u001b[49m\u001b[43m(\u001b[49m\u001b[43munet\u001b[49m\u001b[43m,\u001b[49m\u001b[43m \u001b[49m\u001b[43mdataloader\u001b[49m\u001b[43m,\u001b[49m\u001b[43m \u001b[49m\u001b[43mnum_epochs\u001b[49m\u001b[43m=\u001b[49m\u001b[32;43m2\u001b[39;49m\u001b[43m,\u001b[49m\u001b[43m \u001b[49m\u001b[43mlr\u001b[49m\u001b[43m=\u001b[49m\u001b[32;43m1e-4\u001b[39;49m\u001b[43m,\u001b[49m\u001b[43m \u001b[49m\u001b[43mdevice\u001b[49m\u001b[43m=\u001b[49m\u001b[43mdevice\u001b[49m\u001b[43m)\u001b[49m \u001b[38;5;66;03m# I need the gpus :(\u001b[39;00m\n\u001b[32m      3\u001b[39m \u001b[38;5;66;03m# torch.save(trained_model.state_dict(), \"audio_conditioned_3dunet.pth\")\u001b[39;00m\n",
      "\u001b[36mCell\u001b[39m\u001b[36m \u001b[39m\u001b[32mIn[24]\u001b[39m\u001b[32m, line 23\u001b[39m, in \u001b[36mtrain_model_u\u001b[39m\u001b[34m(model, dataloader, num_epochs, lr, device)\u001b[39m\n\u001b[32m     21\u001b[39m \u001b[38;5;66;03m# Losses\u001b[39;00m\n\u001b[32m     22\u001b[39m mse_loss = nn.MSELoss()\n\u001b[32m---> \u001b[39m\u001b[32m23\u001b[39m perceptual_loss = \u001b[43mPerceptualLoss\u001b[49m\u001b[43m(\u001b[49m\u001b[43mtorchvision\u001b[49m\u001b[43m.\u001b[49m\u001b[43mmodels\u001b[49m\u001b[43m.\u001b[49m\u001b[43mvgg16\u001b[49m\u001b[43m(\u001b[49m\u001b[43mpretrained\u001b[49m\u001b[43m=\u001b[49m\u001b[38;5;28;43;01mTrue\u001b[39;49;00m\u001b[43m)\u001b[49m\u001b[43m)\u001b[49m\u001b[43m.\u001b[49m\u001b[43mto\u001b[49m\u001b[43m(\u001b[49m\u001b[43mdevice\u001b[49m\u001b[43m)\u001b[49m\n\u001b[32m     24\u001b[39m cosine_loss = nn.CosineEmbeddingLoss()\n\u001b[32m     26\u001b[39m \u001b[38;5;66;03m# Train\u001b[39;00m\n",
      "\u001b[36mFile \u001b[39m\u001b[32m/home/woody/iwi5/iwi5251h/software/private/conda/envs/aid/lib/python3.13/site-packages/torch/nn/modules/module.py:1343\u001b[39m, in \u001b[36mModule.to\u001b[39m\u001b[34m(self, *args, **kwargs)\u001b[39m\n\u001b[32m   1340\u001b[39m         \u001b[38;5;28;01melse\u001b[39;00m:\n\u001b[32m   1341\u001b[39m             \u001b[38;5;28;01mraise\u001b[39;00m\n\u001b[32m-> \u001b[39m\u001b[32m1343\u001b[39m \u001b[38;5;28;01mreturn\u001b[39;00m \u001b[38;5;28;43mself\u001b[39;49m\u001b[43m.\u001b[49m\u001b[43m_apply\u001b[49m\u001b[43m(\u001b[49m\u001b[43mconvert\u001b[49m\u001b[43m)\u001b[49m\n",
      "\u001b[36mFile \u001b[39m\u001b[32m/home/woody/iwi5/iwi5251h/software/private/conda/envs/aid/lib/python3.13/site-packages/torch/nn/modules/module.py:903\u001b[39m, in \u001b[36mModule._apply\u001b[39m\u001b[34m(self, fn, recurse)\u001b[39m\n\u001b[32m    901\u001b[39m \u001b[38;5;28;01mif\u001b[39;00m recurse:\n\u001b[32m    902\u001b[39m     \u001b[38;5;28;01mfor\u001b[39;00m module \u001b[38;5;129;01min\u001b[39;00m \u001b[38;5;28mself\u001b[39m.children():\n\u001b[32m--> \u001b[39m\u001b[32m903\u001b[39m         \u001b[43mmodule\u001b[49m\u001b[43m.\u001b[49m\u001b[43m_apply\u001b[49m\u001b[43m(\u001b[49m\u001b[43mfn\u001b[49m\u001b[43m)\u001b[49m\n\u001b[32m    905\u001b[39m \u001b[38;5;28;01mdef\u001b[39;00m\u001b[38;5;250m \u001b[39m\u001b[34mcompute_should_use_set_data\u001b[39m(tensor, tensor_applied):\n\u001b[32m    906\u001b[39m     \u001b[38;5;28;01mif\u001b[39;00m torch._has_compatible_shallow_copy_type(tensor, tensor_applied):\n\u001b[32m    907\u001b[39m         \u001b[38;5;66;03m# If the new tensor has compatible tensor type as the existing tensor,\u001b[39;00m\n\u001b[32m    908\u001b[39m         \u001b[38;5;66;03m# the current behavior is to change the tensor in-place using `.data =`,\u001b[39;00m\n\u001b[32m   (...)\u001b[39m\u001b[32m    913\u001b[39m         \u001b[38;5;66;03m# global flag to let the user control whether they want the future\u001b[39;00m\n\u001b[32m    914\u001b[39m         \u001b[38;5;66;03m# behavior of overwriting the existing tensor or not.\u001b[39;00m\n",
      "\u001b[36mFile \u001b[39m\u001b[32m/home/woody/iwi5/iwi5251h/software/private/conda/envs/aid/lib/python3.13/site-packages/torch/nn/modules/module.py:903\u001b[39m, in \u001b[36mModule._apply\u001b[39m\u001b[34m(self, fn, recurse)\u001b[39m\n\u001b[32m    901\u001b[39m \u001b[38;5;28;01mif\u001b[39;00m recurse:\n\u001b[32m    902\u001b[39m     \u001b[38;5;28;01mfor\u001b[39;00m module \u001b[38;5;129;01min\u001b[39;00m \u001b[38;5;28mself\u001b[39m.children():\n\u001b[32m--> \u001b[39m\u001b[32m903\u001b[39m         \u001b[43mmodule\u001b[49m\u001b[43m.\u001b[49m\u001b[43m_apply\u001b[49m\u001b[43m(\u001b[49m\u001b[43mfn\u001b[49m\u001b[43m)\u001b[49m\n\u001b[32m    905\u001b[39m \u001b[38;5;28;01mdef\u001b[39;00m\u001b[38;5;250m \u001b[39m\u001b[34mcompute_should_use_set_data\u001b[39m(tensor, tensor_applied):\n\u001b[32m    906\u001b[39m     \u001b[38;5;28;01mif\u001b[39;00m torch._has_compatible_shallow_copy_type(tensor, tensor_applied):\n\u001b[32m    907\u001b[39m         \u001b[38;5;66;03m# If the new tensor has compatible tensor type as the existing tensor,\u001b[39;00m\n\u001b[32m    908\u001b[39m         \u001b[38;5;66;03m# the current behavior is to change the tensor in-place using `.data =`,\u001b[39;00m\n\u001b[32m   (...)\u001b[39m\u001b[32m    913\u001b[39m         \u001b[38;5;66;03m# global flag to let the user control whether they want the future\u001b[39;00m\n\u001b[32m    914\u001b[39m         \u001b[38;5;66;03m# behavior of overwriting the existing tensor or not.\u001b[39;00m\n",
      "\u001b[36mFile \u001b[39m\u001b[32m/home/woody/iwi5/iwi5251h/software/private/conda/envs/aid/lib/python3.13/site-packages/torch/nn/modules/module.py:930\u001b[39m, in \u001b[36mModule._apply\u001b[39m\u001b[34m(self, fn, recurse)\u001b[39m\n\u001b[32m    926\u001b[39m \u001b[38;5;66;03m# Tensors stored in modules are graph leaves, and we don't want to\u001b[39;00m\n\u001b[32m    927\u001b[39m \u001b[38;5;66;03m# track autograd history of `param_applied`, so we have to use\u001b[39;00m\n\u001b[32m    928\u001b[39m \u001b[38;5;66;03m# `with torch.no_grad():`\u001b[39;00m\n\u001b[32m    929\u001b[39m \u001b[38;5;28;01mwith\u001b[39;00m torch.no_grad():\n\u001b[32m--> \u001b[39m\u001b[32m930\u001b[39m     param_applied = \u001b[43mfn\u001b[49m\u001b[43m(\u001b[49m\u001b[43mparam\u001b[49m\u001b[43m)\u001b[49m\n\u001b[32m    931\u001b[39m p_should_use_set_data = compute_should_use_set_data(param, param_applied)\n\u001b[32m    933\u001b[39m \u001b[38;5;66;03m# subclasses may have multiple child tensors so we need to use swap_tensors\u001b[39;00m\n",
      "\u001b[36mFile \u001b[39m\u001b[32m/home/woody/iwi5/iwi5251h/software/private/conda/envs/aid/lib/python3.13/site-packages/torch/nn/modules/module.py:1329\u001b[39m, in \u001b[36mModule.to.<locals>.convert\u001b[39m\u001b[34m(t)\u001b[39m\n\u001b[32m   1322\u001b[39m     \u001b[38;5;28;01mif\u001b[39;00m convert_to_format \u001b[38;5;129;01mis\u001b[39;00m \u001b[38;5;129;01mnot\u001b[39;00m \u001b[38;5;28;01mNone\u001b[39;00m \u001b[38;5;129;01mand\u001b[39;00m t.dim() \u001b[38;5;129;01min\u001b[39;00m (\u001b[32m4\u001b[39m, \u001b[32m5\u001b[39m):\n\u001b[32m   1323\u001b[39m         \u001b[38;5;28;01mreturn\u001b[39;00m t.to(\n\u001b[32m   1324\u001b[39m             device,\n\u001b[32m   1325\u001b[39m             dtype \u001b[38;5;28;01mif\u001b[39;00m t.is_floating_point() \u001b[38;5;129;01mor\u001b[39;00m t.is_complex() \u001b[38;5;28;01melse\u001b[39;00m \u001b[38;5;28;01mNone\u001b[39;00m,\n\u001b[32m   1326\u001b[39m             non_blocking,\n\u001b[32m   1327\u001b[39m             memory_format=convert_to_format,\n\u001b[32m   1328\u001b[39m         )\n\u001b[32m-> \u001b[39m\u001b[32m1329\u001b[39m     \u001b[38;5;28;01mreturn\u001b[39;00m \u001b[43mt\u001b[49m\u001b[43m.\u001b[49m\u001b[43mto\u001b[49m\u001b[43m(\u001b[49m\n\u001b[32m   1330\u001b[39m \u001b[43m        \u001b[49m\u001b[43mdevice\u001b[49m\u001b[43m,\u001b[49m\n\u001b[32m   1331\u001b[39m \u001b[43m        \u001b[49m\u001b[43mdtype\u001b[49m\u001b[43m \u001b[49m\u001b[38;5;28;43;01mif\u001b[39;49;00m\u001b[43m \u001b[49m\u001b[43mt\u001b[49m\u001b[43m.\u001b[49m\u001b[43mis_floating_point\u001b[49m\u001b[43m(\u001b[49m\u001b[43m)\u001b[49m\u001b[43m \u001b[49m\u001b[38;5;129;43;01mor\u001b[39;49;00m\u001b[43m \u001b[49m\u001b[43mt\u001b[49m\u001b[43m.\u001b[49m\u001b[43mis_complex\u001b[49m\u001b[43m(\u001b[49m\u001b[43m)\u001b[49m\u001b[43m \u001b[49m\u001b[38;5;28;43;01melse\u001b[39;49;00m\u001b[43m \u001b[49m\u001b[38;5;28;43;01mNone\u001b[39;49;00m\u001b[43m,\u001b[49m\n\u001b[32m   1332\u001b[39m \u001b[43m        \u001b[49m\u001b[43mnon_blocking\u001b[49m\u001b[43m,\u001b[49m\n\u001b[32m   1333\u001b[39m \u001b[43m    \u001b[49m\u001b[43m)\u001b[49m\n\u001b[32m   1334\u001b[39m \u001b[38;5;28;01mexcept\u001b[39;00m \u001b[38;5;167;01mNotImplementedError\u001b[39;00m \u001b[38;5;28;01mas\u001b[39;00m e:\n\u001b[32m   1335\u001b[39m     \u001b[38;5;28;01mif\u001b[39;00m \u001b[38;5;28mstr\u001b[39m(e) == \u001b[33m\"\u001b[39m\u001b[33mCannot copy out of meta tensor; no data!\u001b[39m\u001b[33m\"\u001b[39m:\n",
      "\u001b[31mOutOfMemoryError\u001b[39m: CUDA out of memory. Tried to allocate 2.00 MiB. GPU 0 has a total capacity of 10.90 GiB of which 3.25 MiB is free. Including non-PyTorch memory, this process has 10.90 GiB memory in use. Of the allocated memory 10.59 GiB is allocated by PyTorch, and 52.45 MiB is reserved by PyTorch but unallocated. If reserved but unallocated memory is large try setting PYTORCH_CUDA_ALLOC_CONF=expandable_segments:True to avoid fragmentation.  See documentation for Memory Management  (https://pytorch.org/docs/stable/notes/cuda.html#environment-variables)"
     ]
    }
   ],
   "source": [
    "trained_model = train_model_u(unet, dataloader, num_epochs=2, lr=1e-4, device=device) # I need the gpus :(\n",
    "\n",
    "# torch.save(trained_model.state_dict(), \"audio_conditioned_3dunet.pth\")"
   ]
  },
  {
   "cell_type": "code",
   "execution_count": null,
   "metadata": {
    "tags": []
   },
   "outputs": [],
   "source": [
    "trained_model.eval()\n",
    "for waveform, video_frames, audio_path, video_path in dataloader:\n",
    "    dns_out = trained_model(video_frames, waveform)\n",
    "    print(dns_out.shape)\n",
    "    plt.imshow(video_frames[0,5,0], cmap=\"gray\")\n",
    "    plt.show()\n",
    "    plt.imshow(dns_out[0, 0, 0].detach().cpu(), cmap=\"gray\")\n",
    "    plt.show()\n",
    "    break"
   ]
  },
  {
   "cell_type": "code",
   "execution_count": null,
   "metadata": {
    "tags": []
   },
   "outputs": [],
   "source": []
  },
  {
   "cell_type": "code",
   "execution_count": 14,
   "metadata": {
    "tags": []
   },
   "outputs": [
    {
     "ename": "SyntaxError",
     "evalue": "invalid character '°' (U+00B0) (2867040718.py, line 1)",
     "output_type": "error",
     "traceback": [
      "  \u001b[36mCell\u001b[39m\u001b[36m \u001b[39m\u001b[32mIn[14]\u001b[39m\u001b[32m, line 1\u001b[39m\n\u001b[31m    \u001b[39m\u001b[31m°^°\u001b[39m\n    ^\n\u001b[31mSyntaxError\u001b[39m\u001b[31m:\u001b[39m invalid character '°' (U+00B0)\n"
     ]
    }
   ],
   "source": [
    "\\(°^°)/"
   ]
  },
  {
   "cell_type": "code",
   "execution_count": null,
   "metadata": {},
   "outputs": [],
   "source": []
  }
 ],
 "metadata": {
  "kernelspec": {
   "display_name": "Python 3.11 (ipykernel)",
   "language": "python",
   "name": "python3"
  },
  "language_info": {
   "codemirror_mode": {
    "name": "ipython",
    "version": 3
   },
   "file_extension": ".py",
   "mimetype": "text/x-python",
   "name": "python",
   "nbconvert_exporter": "python",
   "pygments_lexer": "ipython3",
   "version": "3.11.0"
  }
 },
 "nbformat": 4,
 "nbformat_minor": 4
}
